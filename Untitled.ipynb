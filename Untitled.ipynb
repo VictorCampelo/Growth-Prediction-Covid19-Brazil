{
 "cells": [
  {
   "cell_type": "markdown",
   "metadata": {},
   "source": [
    "# predicting the next country that'll discovery new cases of Coronavirus"
   ]
  },
  {
   "cell_type": "code",
   "execution_count": 1,
   "metadata": {},
   "outputs": [],
   "source": [
    "import pandas as pd\n",
    "import numpy as np\n",
    "import matplotlib.pyplot as plt\n",
    "%matplotlib inline\n",
    "#import lightgbm as lgb\n",
    "from tqdm import tqdm_notebook\n",
    "import warnings\n",
    "warnings.simplefilter(\"ignore\")"
   ]
  },
  {
   "cell_type": "code",
   "execution_count": 2,
   "metadata": {},
   "outputs": [],
   "source": [
    "plt.style.use('seaborn-pastel')\n",
    "plt.rcParams['figure.figsize'] = (10,7)"
   ]
  },
  {
   "cell_type": "code",
   "execution_count": 3,
   "metadata": {},
   "outputs": [],
   "source": [
    "covid = pd.read_csv(\"full_data.csv\")"
   ]
  },
  {
   "cell_type": "code",
   "execution_count": 4,
   "metadata": {},
   "outputs": [
    {
     "data": {
      "text/html": [
       "<div>\n",
       "<style scoped>\n",
       "    .dataframe tbody tr th:only-of-type {\n",
       "        vertical-align: middle;\n",
       "    }\n",
       "\n",
       "    .dataframe tbody tr th {\n",
       "        vertical-align: top;\n",
       "    }\n",
       "\n",
       "    .dataframe thead th {\n",
       "        text-align: right;\n",
       "    }\n",
       "</style>\n",
       "<table border=\"1\" class=\"dataframe\">\n",
       "  <thead>\n",
       "    <tr style=\"text-align: right;\">\n",
       "      <th></th>\n",
       "      <th>date</th>\n",
       "      <th>location</th>\n",
       "      <th>new_cases</th>\n",
       "      <th>new_deaths</th>\n",
       "      <th>total_cases</th>\n",
       "      <th>total_deaths</th>\n",
       "    </tr>\n",
       "  </thead>\n",
       "  <tbody>\n",
       "    <tr>\n",
       "      <td>0</td>\n",
       "      <td>2020-02-25</td>\n",
       "      <td>Afghanistan</td>\n",
       "      <td>NaN</td>\n",
       "      <td>NaN</td>\n",
       "      <td>1</td>\n",
       "      <td>NaN</td>\n",
       "    </tr>\n",
       "    <tr>\n",
       "      <td>1</td>\n",
       "      <td>2020-02-26</td>\n",
       "      <td>Afghanistan</td>\n",
       "      <td>0.0</td>\n",
       "      <td>NaN</td>\n",
       "      <td>1</td>\n",
       "      <td>NaN</td>\n",
       "    </tr>\n",
       "    <tr>\n",
       "      <td>2</td>\n",
       "      <td>2020-02-27</td>\n",
       "      <td>Afghanistan</td>\n",
       "      <td>0.0</td>\n",
       "      <td>NaN</td>\n",
       "      <td>1</td>\n",
       "      <td>NaN</td>\n",
       "    </tr>\n",
       "    <tr>\n",
       "      <td>3</td>\n",
       "      <td>2020-02-28</td>\n",
       "      <td>Afghanistan</td>\n",
       "      <td>0.0</td>\n",
       "      <td>NaN</td>\n",
       "      <td>1</td>\n",
       "      <td>NaN</td>\n",
       "    </tr>\n",
       "    <tr>\n",
       "      <td>4</td>\n",
       "      <td>2020-02-29</td>\n",
       "      <td>Afghanistan</td>\n",
       "      <td>0.0</td>\n",
       "      <td>NaN</td>\n",
       "      <td>1</td>\n",
       "      <td>NaN</td>\n",
       "    </tr>\n",
       "  </tbody>\n",
       "</table>\n",
       "</div>"
      ],
      "text/plain": [
       "         date     location  new_cases  new_deaths  total_cases  total_deaths\n",
       "0  2020-02-25  Afghanistan        NaN         NaN            1           NaN\n",
       "1  2020-02-26  Afghanistan        0.0         NaN            1           NaN\n",
       "2  2020-02-27  Afghanistan        0.0         NaN            1           NaN\n",
       "3  2020-02-28  Afghanistan        0.0         NaN            1           NaN\n",
       "4  2020-02-29  Afghanistan        0.0         NaN            1           NaN"
      ]
     },
     "execution_count": 4,
     "metadata": {},
     "output_type": "execute_result"
    }
   ],
   "source": [
    "covid.head()"
   ]
  },
  {
   "cell_type": "code",
   "execution_count": 5,
   "metadata": {},
   "outputs": [
    {
     "data": {
      "text/plain": [
       "location\n",
       "Afghanistan            22\n",
       "Albania                 9\n",
       "Algeria                21\n",
       "Andorra                15\n",
       "Antigua and Barbuda     4\n",
       "                       ..\n",
       "Uzbekistan              2\n",
       "Vatican                11\n",
       "Venezuela               4\n",
       "Vietnam                54\n",
       "World                  57\n",
       "Name: total_cases, Length: 161, dtype: int64"
      ]
     },
     "execution_count": 5,
     "metadata": {},
     "output_type": "execute_result"
    }
   ],
   "source": [
    "covid.groupby('location')['total_cases'].count()"
   ]
  },
  {
   "cell_type": "code",
   "execution_count": 6,
   "metadata": {},
   "outputs": [
    {
     "data": {
      "text/plain": [
       "<matplotlib.axes._subplots.AxesSubplot at 0x7f66f6831990>"
      ]
     },
     "execution_count": 6,
     "metadata": {},
     "output_type": "execute_result"
    },
    {
     "data": {
      "image/png": "[encoded data removed]",
      "text/plain": [
       "<Figure size 720x504 with 1 Axes>"
      ]
     },
     "metadata": {
      "needs_background": "light"
     },
     "output_type": "display_data"
    }
   ],
   "source": [
    "covid[covid['location'] == 'Brazil']['total_cases'].plot.bar()"
   ]
  },
  {
   "cell_type": "code",
   "execution_count": 7,
   "metadata": {},
   "outputs": [
    {
     "data": {
      "text/plain": [
       "<matplotlib.axes._subplots.AxesSubplot at 0x7f66f5c1ea10>"
      ]
     },
     "execution_count": 7,
     "metadata": {},
     "output_type": "execute_result"
    },
    {
     "data": {
      "image/png": "[encoded data removed]",
      "text/plain": [
       "<Figure size 720x504 with 1 Axes>"
      ]
     },
     "metadata": {
      "needs_background": "light"
     },
     "output_type": "display_data"
    }
   ],
   "source": [
    "covid[covid['location'] == 'China']['total_cases'].plot.bar()"
   ]
  },
  {
   "cell_type": "code",
   "execution_count": 8,
   "metadata": {},
   "outputs": [],
   "source": [
    "covid['date'] = pd.to_datetime(covid['date'], format='%Y-%m-%d')"
   ]
  },
  {
   "cell_type": "code",
   "execution_count": 9,
   "metadata": {},
   "outputs": [
    {
     "data": {
      "text/plain": [
       "<matplotlib.axes._subplots.AxesSubplot at 0x7f66f5878990>"
      ]
     },
     "execution_count": 9,
     "metadata": {},
     "output_type": "execute_result"
    },
    {
     "data": {
      "image/png": "[encoded data removed]",
      "text/plain": [
       "<Figure size 720x504 with 1 Axes>"
      ]
     },
     "metadata": {
      "needs_background": "light"
     },
     "output_type": "display_data"
    }
   ],
   "source": [
    "covid.groupby('date')['date'].count().plot.bar()\n",
    "covid[covid['location'] == 'Brazil']['total_cases'].plot.bar()"
   ]
  },
  {
   "cell_type": "markdown",
   "metadata": {},
   "source": [
    "### The tan curve represents a scenario in which the U.S. hospital system becomes inundated with coronavirus patients\n",
    "![risk](https://laistassets.scprdev.org/i/ec32c7efc8c49bac01d79cb9547d4d6e/5e7123bcb555c5000abe3f2e-eight.jpg)\n",
    "\n",
    "![Number of health care in Brazil](http://www.conass.org.br/consensus/wp-content/uploads/2014/07/Tabela.png)"
   ]
  },
  {
   "cell_type": "markdown",
   "metadata": {},
   "source": [
    "### predicting whether a country will exceed the limit"
   ]
  },
  {
   "cell_type": "code",
   "execution_count": 10,
   "metadata": {},
   "outputs": [],
   "source": [
    "sus = pd.read_csv('sus_1000_hab.csv') # available beds in each city from Brazil 2010"
   ]
  },
  {
   "cell_type": "code",
   "execution_count": 11,
   "metadata": {},
   "outputs": [],
   "source": [
    "sus = sus.drop(columns=['FID', 'gid', 'Censo','legenda', 'Descrição', 'classe'])"
   ]
  },
  {
   "cell_type": "code",
   "execution_count": 12,
   "metadata": {},
   "outputs": [
    {
     "data": {
      "text/html": [
       "<div>\n",
       "<style scoped>\n",
       "    .dataframe tbody tr th:only-of-type {\n",
       "        vertical-align: middle;\n",
       "    }\n",
       "\n",
       "    .dataframe tbody tr th {\n",
       "        vertical-align: top;\n",
       "    }\n",
       "\n",
       "    .dataframe thead th {\n",
       "        text-align: right;\n",
       "    }\n",
       "</style>\n",
       "<table border=\"1\" class=\"dataframe\">\n",
       "  <thead>\n",
       "    <tr style=\"text-align: right;\">\n",
       "      <th></th>\n",
       "      <th>UF</th>\n",
       "      <th>nome</th>\n",
       "      <th>Pop_est_2009</th>\n",
       "      <th>num_medicos_sus</th>\n",
       "      <th>razao_leitos_sus_1000_hab</th>\n",
       "      <th>geom</th>\n",
       "    </tr>\n",
       "  </thead>\n",
       "  <tbody>\n",
       "    <tr>\n",
       "      <td>0</td>\n",
       "      <td>BAHIA</td>\n",
       "      <td>Tremedal</td>\n",
       "      <td>18433</td>\n",
       "      <td>10</td>\n",
       "      <td>0.2</td>\n",
       "      <td>MULTIPOLYGON (((-41.458803305191566 -14.781415...</td>\n",
       "    </tr>\n",
       "    <tr>\n",
       "      <td>1</td>\n",
       "      <td>RIO GRANDE DO SUL</td>\n",
       "      <td>Turuçu</td>\n",
       "      <td>4000</td>\n",
       "      <td>7</td>\n",
       "      <td>0.0</td>\n",
       "      <td>MULTIPOLYGON (((-52.035349932081274 -31.567509...</td>\n",
       "    </tr>\n",
       "    <tr>\n",
       "      <td>2</td>\n",
       "      <td>ESPIRITO SANTO</td>\n",
       "      <td>Vitória</td>\n",
       "      <td>320156</td>\n",
       "      <td>5</td>\n",
       "      <td>4.1</td>\n",
       "      <td>MULTIPOLYGON (((-40.3292566978242 -20.23997417...</td>\n",
       "    </tr>\n",
       "    <tr>\n",
       "      <td>3</td>\n",
       "      <td>MINAS GERAIS</td>\n",
       "      <td>Jacutinga</td>\n",
       "      <td>21424</td>\n",
       "      <td>23</td>\n",
       "      <td>2.9</td>\n",
       "      <td>MULTIPOLYGON (((-46.50528160015326 -22.3400120...</td>\n",
       "    </tr>\n",
       "    <tr>\n",
       "      <td>4</td>\n",
       "      <td>PIAUÍ</td>\n",
       "      <td>Nazária</td>\n",
       "      <td>7895</td>\n",
       "      <td>4</td>\n",
       "      <td>0.0</td>\n",
       "      <td>POLYGON ((-42.826685407155495 -5.3480291684437...</td>\n",
       "    </tr>\n",
       "  </tbody>\n",
       "</table>\n",
       "</div>"
      ],
      "text/plain": [
       "                  UF       nome  Pop_est_2009  num_medicos_sus  \\\n",
       "0              BAHIA   Tremedal         18433               10   \n",
       "1  RIO GRANDE DO SUL     Turuçu          4000                7   \n",
       "2     ESPIRITO SANTO    Vitória        320156                5   \n",
       "3       MINAS GERAIS  Jacutinga         21424               23   \n",
       "4              PIAUÍ    Nazária          7895                4   \n",
       "\n",
       "   razao_leitos_sus_1000_hab  \\\n",
       "0                        0.2   \n",
       "1                        0.0   \n",
       "2                        4.1   \n",
       "3                        2.9   \n",
       "4                        0.0   \n",
       "\n",
       "                                                geom  \n",
       "0  MULTIPOLYGON (((-41.458803305191566 -14.781415...  \n",
       "1  MULTIPOLYGON (((-52.035349932081274 -31.567509...  \n",
       "2  MULTIPOLYGON (((-40.3292566978242 -20.23997417...  \n",
       "3  MULTIPOLYGON (((-46.50528160015326 -22.3400120...  \n",
       "4  POLYGON ((-42.826685407155495 -5.3480291684437...  "
      ]
     },
     "execution_count": 12,
     "metadata": {},
     "output_type": "execute_result"
    }
   ],
   "source": [
    "sus.head()"
   ]
  },
  {
   "cell_type": "code",
   "execution_count": 13,
   "metadata": {},
   "outputs": [
    {
     "data": {
      "text/html": [
       "<div>\n",
       "<style scoped>\n",
       "    .dataframe tbody tr th:only-of-type {\n",
       "        vertical-align: middle;\n",
       "    }\n",
       "\n",
       "    .dataframe tbody tr th {\n",
       "        vertical-align: top;\n",
       "    }\n",
       "\n",
       "    .dataframe thead th {\n",
       "        text-align: right;\n",
       "    }\n",
       "</style>\n",
       "<table border=\"1\" class=\"dataframe\">\n",
       "  <thead>\n",
       "    <tr style=\"text-align: right;\">\n",
       "      <th></th>\n",
       "      <th>Pop_est_2009</th>\n",
       "      <th>num_medicos_sus</th>\n",
       "      <th>razao_leitos_sus_1000_hab</th>\n",
       "    </tr>\n",
       "  </thead>\n",
       "  <tbody>\n",
       "    <tr>\n",
       "      <td>count</td>\n",
       "      <td>5.566000e+03</td>\n",
       "      <td>5566.000000</td>\n",
       "      <td>5566.000000</td>\n",
       "    </tr>\n",
       "    <tr>\n",
       "      <td>mean</td>\n",
       "      <td>3.440557e+04</td>\n",
       "      <td>50.575278</td>\n",
       "      <td>1.481603</td>\n",
       "    </tr>\n",
       "    <tr>\n",
       "      <td>std</td>\n",
       "      <td>2.017854e+05</td>\n",
       "      <td>451.671197</td>\n",
       "      <td>2.122382</td>\n",
       "    </tr>\n",
       "    <tr>\n",
       "      <td>min</td>\n",
       "      <td>8.370000e+02</td>\n",
       "      <td>0.000000</td>\n",
       "      <td>0.000000</td>\n",
       "    </tr>\n",
       "    <tr>\n",
       "      <td>25%</td>\n",
       "      <td>5.339250e+03</td>\n",
       "      <td>6.000000</td>\n",
       "      <td>0.000000</td>\n",
       "    </tr>\n",
       "    <tr>\n",
       "      <td>50%</td>\n",
       "      <td>1.120300e+04</td>\n",
       "      <td>12.000000</td>\n",
       "      <td>1.100000</td>\n",
       "    </tr>\n",
       "    <tr>\n",
       "      <td>75%</td>\n",
       "      <td>2.325275e+04</td>\n",
       "      <td>24.000000</td>\n",
       "      <td>2.200000</td>\n",
       "    </tr>\n",
       "    <tr>\n",
       "      <td>max</td>\n",
       "      <td>1.103759e+07</td>\n",
       "      <td>22796.000000</td>\n",
       "      <td>72.099998</td>\n",
       "    </tr>\n",
       "  </tbody>\n",
       "</table>\n",
       "</div>"
      ],
      "text/plain": [
       "       Pop_est_2009  num_medicos_sus  razao_leitos_sus_1000_hab\n",
       "count  5.566000e+03      5566.000000                5566.000000\n",
       "mean   3.440557e+04        50.575278                   1.481603\n",
       "std    2.017854e+05       451.671197                   2.122382\n",
       "min    8.370000e+02         0.000000                   0.000000\n",
       "25%    5.339250e+03         6.000000                   0.000000\n",
       "50%    1.120300e+04        12.000000                   1.100000\n",
       "75%    2.325275e+04        24.000000                   2.200000\n",
       "max    1.103759e+07     22796.000000                  72.099998"
      ]
     },
     "execution_count": 13,
     "metadata": {},
     "output_type": "execute_result"
    }
   ],
   "source": [
    "sus.describe()"
   ]
  },
  {
   "cell_type": "code",
   "execution_count": 14,
   "metadata": {},
   "outputs": [
    {
     "data": {
      "text/plain": [
       "(5566, 6)"
      ]
     },
     "execution_count": 14,
     "metadata": {},
     "output_type": "execute_result"
    }
   ],
   "source": [
    "sus.shape"
   ]
  },
  {
   "cell_type": "markdown",
   "metadata": {},
   "source": [
    "### available beds"
   ]
  },
  {
   "cell_type": "code",
   "execution_count": 15,
   "metadata": {},
   "outputs": [],
   "source": [
    "sus['total_leitos'] = (sus['Pop_est_2009']/1000)*sus['razao_leitos_sus_1000_hab']"
   ]
  },
  {
   "cell_type": "code",
   "execution_count": 16,
   "metadata": {},
   "outputs": [
    {
     "data": {
      "text/plain": [
       "0          3.686600\n",
       "1          0.000000\n",
       "2       1312.639568\n",
       "3         62.129602\n",
       "4          0.000000\n",
       "           ...     \n",
       "5561      39.921699\n",
       "5562      36.355799\n",
       "5563      62.241897\n",
       "5564       0.000000\n",
       "5565      25.865799\n",
       "Name: total_leitos, Length: 5566, dtype: float64"
      ]
     },
     "execution_count": 16,
     "metadata": {},
     "output_type": "execute_result"
    }
   ],
   "source": [
    "sus['total_leitos']"
   ]
  },
  {
   "cell_type": "code",
   "execution_count": 17,
   "metadata": {},
   "outputs": [
    {
     "data": {
      "text/html": [
       "<div>\n",
       "<style scoped>\n",
       "    .dataframe tbody tr th:only-of-type {\n",
       "        vertical-align: middle;\n",
       "    }\n",
       "\n",
       "    .dataframe tbody tr th {\n",
       "        vertical-align: top;\n",
       "    }\n",
       "\n",
       "    .dataframe thead th {\n",
       "        text-align: right;\n",
       "    }\n",
       "</style>\n",
       "<table border=\"1\" class=\"dataframe\">\n",
       "  <thead>\n",
       "    <tr style=\"text-align: right;\">\n",
       "      <th></th>\n",
       "      <th>UF</th>\n",
       "      <th>nome</th>\n",
       "      <th>Pop_est_2009</th>\n",
       "      <th>num_medicos_sus</th>\n",
       "      <th>razao_leitos_sus_1000_hab</th>\n",
       "      <th>geom</th>\n",
       "      <th>total_leitos</th>\n",
       "    </tr>\n",
       "  </thead>\n",
       "  <tbody>\n",
       "    <tr>\n",
       "      <td>0</td>\n",
       "      <td>BAHIA</td>\n",
       "      <td>Tremedal</td>\n",
       "      <td>18433</td>\n",
       "      <td>10</td>\n",
       "      <td>0.2</td>\n",
       "      <td>MULTIPOLYGON (((-41.458803305191566 -14.781415...</td>\n",
       "      <td>3.686600</td>\n",
       "    </tr>\n",
       "    <tr>\n",
       "      <td>1</td>\n",
       "      <td>RIO GRANDE DO SUL</td>\n",
       "      <td>Turuçu</td>\n",
       "      <td>4000</td>\n",
       "      <td>7</td>\n",
       "      <td>0.0</td>\n",
       "      <td>MULTIPOLYGON (((-52.035349932081274 -31.567509...</td>\n",
       "      <td>0.000000</td>\n",
       "    </tr>\n",
       "    <tr>\n",
       "      <td>2</td>\n",
       "      <td>ESPIRITO SANTO</td>\n",
       "      <td>Vitória</td>\n",
       "      <td>320156</td>\n",
       "      <td>5</td>\n",
       "      <td>4.1</td>\n",
       "      <td>MULTIPOLYGON (((-40.3292566978242 -20.23997417...</td>\n",
       "      <td>1312.639568</td>\n",
       "    </tr>\n",
       "    <tr>\n",
       "      <td>3</td>\n",
       "      <td>MINAS GERAIS</td>\n",
       "      <td>Jacutinga</td>\n",
       "      <td>21424</td>\n",
       "      <td>23</td>\n",
       "      <td>2.9</td>\n",
       "      <td>MULTIPOLYGON (((-46.50528160015326 -22.3400120...</td>\n",
       "      <td>62.129602</td>\n",
       "    </tr>\n",
       "    <tr>\n",
       "      <td>4</td>\n",
       "      <td>PIAUÍ</td>\n",
       "      <td>Nazária</td>\n",
       "      <td>7895</td>\n",
       "      <td>4</td>\n",
       "      <td>0.0</td>\n",
       "      <td>POLYGON ((-42.826685407155495 -5.3480291684437...</td>\n",
       "      <td>0.000000</td>\n",
       "    </tr>\n",
       "  </tbody>\n",
       "</table>\n",
       "</div>"
      ],
      "text/plain": [
       "                  UF       nome  Pop_est_2009  num_medicos_sus  \\\n",
       "0              BAHIA   Tremedal         18433               10   \n",
       "1  RIO GRANDE DO SUL     Turuçu          4000                7   \n",
       "2     ESPIRITO SANTO    Vitória        320156                5   \n",
       "3       MINAS GERAIS  Jacutinga         21424               23   \n",
       "4              PIAUÍ    Nazária          7895                4   \n",
       "\n",
       "   razao_leitos_sus_1000_hab  \\\n",
       "0                        0.2   \n",
       "1                        0.0   \n",
       "2                        4.1   \n",
       "3                        2.9   \n",
       "4                        0.0   \n",
       "\n",
       "                                                geom  total_leitos  \n",
       "0  MULTIPOLYGON (((-41.458803305191566 -14.781415...      3.686600  \n",
       "1  MULTIPOLYGON (((-52.035349932081274 -31.567509...      0.000000  \n",
       "2  MULTIPOLYGON (((-40.3292566978242 -20.23997417...   1312.639568  \n",
       "3  MULTIPOLYGON (((-46.50528160015326 -22.3400120...     62.129602  \n",
       "4  POLYGON ((-42.826685407155495 -5.3480291684437...      0.000000  "
      ]
     },
     "execution_count": 17,
     "metadata": {},
     "output_type": "execute_result"
    }
   ],
   "source": [
    "sus.head()"
   ]
  },
  {
   "cell_type": "markdown",
   "metadata": {},
   "source": [
    "### All available beds in Brazil "
   ]
  },
  {
   "cell_type": "code",
   "execution_count": 18,
   "metadata": {},
   "outputs": [
    {
     "data": {
      "text/plain": [
       "315214.8578634752"
      ]
     },
     "execution_count": 18,
     "metadata": {},
     "output_type": "execute_result"
    }
   ],
   "source": [
    "sus['total_leitos'].sum()"
   ]
  },
  {
   "cell_type": "code",
   "execution_count": null,
   "metadata": {},
   "outputs": [],
   "source": []
  }
 ],
 "metadata": {
  "kernelspec": {
   "display_name": "Python 3",
   "language": "python",
   "name": "python3"
  },
  "language_info": {
   "codemirror_mode": {
    "name": "ipython",
    "version": 3
   },
   "file_extension": ".py",
   "mimetype": "text/x-python",
   "name": "python",
   "nbconvert_exporter": "python",
   "pygments_lexer": "ipython3",
   "version": "3.7.4"
  }
 },
 "nbformat": 4,
 "nbformat_minor": 4
}
